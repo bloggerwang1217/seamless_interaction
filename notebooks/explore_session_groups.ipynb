{
 "cells": [
  {
   "cell_type": "markdown",
   "id": "d3da0558",
   "metadata": {},
   "source": [
    "# Explore Session Groups with dataloader.py\n",
    "\n",
    "This notebook demonstrates how to use `dataloader.py` to explore the data structure of samples in session groups."
   ]
  },
  {
   "cell_type": "code",
   "execution_count": null,
   "id": "2a4082e9",
   "metadata": {},
   "outputs": [],
   "source": [
    "# Section 1: Import Required Libraries and dataloader.py\n",
    "import os\n",
    "import sys\n",
    "import numpy as np\n",
    "import matplotlib.pyplot as plt\n",
    "import json\n",
    "import librosa\n",
    "import cv2\n",
    "from pathlib import Path\n",
    "\n",
    "# Ensure dataloader.py and config are accessible\n",
    "sys.path.append(os.path.abspath('../scripts'))\n",
    "sys.path.append(os.path.abspath('..'))\n",
    "from dataloader import InteractionDataLoader\n",
    "from config import SESSION_CONFIG"
   ]
  },
  {
   "cell_type": "code",
   "execution_count": null,
   "id": "5d32d019",
   "metadata": {},
   "outputs": [
    {
     "name": "stderr",
     "output_type": "stream",
     "text": [
      "2025-08-13 11:33:03,417 - INFO - Loaded filelist with 129572 entries\n"
     ]
    }
   ],
   "source": [
    "# Section 2: Initialize InteractionDataLoader\n",
    "print(f\"Using local_dir: {SESSION_CONFIG.local_dir}\")\n",
    "loader = InteractionDataLoader(config=SESSION_CONFIG)"
   ]
  },
  {
   "cell_type": "code",
   "execution_count": 13,
   "id": "0b6c974f",
   "metadata": {},
   "outputs": [
    {
     "name": "stdout",
     "output_type": "stream",
     "text": [
      "Found 10 file IDs:\n",
      "['V00_S0809_I00000126_P0947', 'V00_S0700_I00000576_P0844A', 'V01_S1881_I00000186_P2767', 'V00_S0925_I00000488_P0816', 'V00_S0809_I00000785_P0383', 'V01_S0935_I00001226_P2040', 'V00_S1061_I00000160_P0383', 'V00_S0648_I00000382_P0801', 'V00_S2020_I00000679_P1276A', 'V00_S0696_I00000543_P0844A']\n"
     ]
    }
   ],
   "source": [
    "# Section 3: List Available File IDs in Session Groups\n",
    "from pathlib import Path\n",
    "import glob\n",
    "\n",
    "PROJECT_ROOT = Path.cwd().parent\n",
    "DATA_DIR = PROJECT_ROOT / 'data'\n",
    "SESSION_GROUP_DIR = DATA_DIR / 'session_groups' / 'improvised' / 'dev' / '0000'\n",
    "\n",
    "json_files = glob.glob(str(SESSION_GROUP_DIR / '*/' / '*.json'))\n",
    "file_ids = [os.path.splitext(os.path.basename(f))[0] for f in json_files]\n",
    "print(f\"Found {len(file_ids)} file IDs:\")\n",
    "print(file_ids)"
   ]
  },
  {
   "cell_type": "code",
   "execution_count": null,
   "id": "31fc5dc2",
   "metadata": {},
   "outputs": [
    {
     "name": "stderr",
     "output_type": "stream",
     "text": [
      "2025-08-13 11:33:08,431 - WARNING - No local files found for V00_S0809_I00000126_P0947 in /Users/bloggerwang/datasets/seamless_interaction/improvised/dev/0000/0032\n"
     ]
    },
    {
     "name": "stdout",
     "output_type": "stream",
     "text": [
      "Sample file path: /Users/bloggerwang/Documents/Lab/seamless_interaction/data/session_groups/improvised/dev/0000/0032/V00_S0809_I00000126_P0947.json\n",
      "Sample file ID: V00_S0809_I00000126_P0947\n",
      "Loaded modalities for V00_S0809_I00000126_P0947:\n",
      "[]\n"
     ]
    }
   ],
   "source": [
    "# Section 4: Load and Display Sample Interaction Data\n",
    "from pathlib import Path\n",
    "\n",
    "# Pick the first file for demonstration\n",
    "sample_json_path = Path(json_files[0])\n",
    "sample_file_id = sample_json_path.stem\n",
    "print(f\"Sample file path: {sample_json_path}\")\n",
    "print(f\"Sample file ID: {sample_file_id}\")\n",
    "\n",
    "# Debug: Show what paths the loader finds\n",
    "paths_found = loader.get_paths(sample_file_id)\n",
    "print(f\"Paths found by loader: {paths_found}\")\n",
    "\n",
    "# Load the interaction data\n",
    "interaction = loader.load_interaction(sample_file_id)\n",
    "print(f\"Loaded modalities for {sample_file_id}:\")\n",
    "print(list(interaction.keys()))"
   ]
  },
  {
   "cell_type": "code",
   "execution_count": null,
   "id": "6aa6a593",
   "metadata": {},
   "outputs": [],
   "source": [
    "# Section 5: Explore NPZ File Structure and Keys\n",
    "if 'npz' in interaction:\n",
    "    npz_data = interaction['npz']\n",
    "    print(\"NPZ keys:\", list(npz_data.keys()))\n",
    "    for key in npz_data.keys():\n",
    "        arr = npz_data[key]\n",
    "        print(f\"{key}: shape = {arr.shape}\")\n",
    "else:\n",
    "    print(\"No NPZ data found in this sample.\")"
   ]
  },
  {
   "cell_type": "code",
   "execution_count": null,
   "id": "e40780ee",
   "metadata": {},
   "outputs": [],
   "source": [
    "# Section 6: Visualize Audio Waveform\n",
    "if 'audio' in interaction:\n",
    "    audio_array = interaction['audio']['array']\n",
    "    sr = interaction['audio']['sampling_rate']\n",
    "    plt.figure(figsize=(12, 3))\n",
    "    plt.plot(audio_array)\n",
    "    plt.title(f\"Audio Waveform for {sample_file_id} (sr={sr})\")\n",
    "    plt.xlabel(\"Sample Index\")\n",
    "    plt.ylabel(\"Amplitude\")\n",
    "    plt.show()\n",
    "else:\n",
    "    print(\"No audio data found in this sample.\")"
   ]
  },
  {
   "cell_type": "code",
   "execution_count": null,
   "id": "f9b4e848",
   "metadata": {},
   "outputs": [],
   "source": [
    "# Section 7: Display JSON Metadata Sample\n",
    "if 'json' in interaction:\n",
    "    print(\"JSON metadata sample:\")\n",
    "    print(json.dumps(interaction['json'], indent=2)[:1000])  # Print first 1000 chars\n",
    "else:\n",
    "    print(\"No JSON metadata found in this sample.\")"
   ]
  }
 ],
 "metadata": {
  "kernelspec": {
   "display_name": "seamless-interaction",
   "language": "python",
   "name": "python3"
  },
  "language_info": {
   "codemirror_mode": {
    "name": "ipython",
    "version": 3
   },
   "file_extension": ".py",
   "mimetype": "text/x-python",
   "name": "python",
   "nbconvert_exporter": "python",
   "pygments_lexer": "ipython3",
   "version": "3.10.2"
  }
 },
 "nbformat": 4,
 "nbformat_minor": 5
}

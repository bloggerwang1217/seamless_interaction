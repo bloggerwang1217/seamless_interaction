{
 "cells": [
  {
   "cell_type": "markdown",
   "metadata": {},
   "source": [
    "# Seamless Interaction Dataset Analysis\n",
    "**Author:** bloggerwang1217  \n",
    "**Date:** 2025-08-12  \n",
    "**Goal:** Descriptive statistics for Sample Set + Session Groups\n"
   ]
  },
  {
   "cell_type": "code",
   "execution_count": 2,
   "metadata": {},
   "outputs": [
    {
     "name": "stdout",
     "output_type": "stream",
     "text": [
      "✅ Libraries imported successfully!\n"
     ]
    }
   ],
   "source": [
    "# Import libraries\n",
    "import pandas as pd\n",
    "import numpy as np\n",
    "import matplotlib.pyplot as plt\n",
    "import seaborn as sns\n",
    "from pathlib import Path\n",
    "import json\n",
    "import cv2\n",
    "import librosa\n",
    "from seamless_interaction.fs import SeamlessInteractionFS, DatasetConfig\n",
    "import warnings\n",
    "warnings.filterwarnings('ignore')\n",
    "\n",
    "# Set up plotting style\n",
    "plt.style.use('seaborn-v0_8')\n",
    "sns.set_palette(\"husl\")\n",
    "\n",
    "print(\"✅ Libraries imported successfully!\")"
   ]
  },
  {
   "cell_type": "code",
   "execution_count": null,
   "metadata": {},
   "outputs": [
    {
     "name": "stderr",
     "output_type": "stream",
     "text": [
      "2025-08-12 20:43:07,290 - INFO - Loaded filelist with 129572 entries\n"
     ]
    },
    {
     "name": "stdout",
     "output_type": "stream",
     "text": [
      "📁 Dataset location: /Users/bloggerwang/datasets/seamless_interaction\n",
      "🏷️  Dataset label: improvised\n",
      "📊 Dataset split: dev\n"
     ]
    }
   ],
   "source": [
    "# Initialize dataset configuration\n",
    "config = DatasetConfig(\n",
    "    label='improvised', \n",
    "    split='dev',\n",
    "    preferred_vendors_only=True,\n",
    "    local_dir=Path('data/seamless_interaction')\n",
    ")\n",
    "fs = SeamlessInteractionFS(config=config)\n",
    "\n",
    "print(f\"📁 Dataset location: {config.local_dir}\")\n",
    "print(f\"🏷️  Dataset label: {config.label}\")\n",
    "print(f\"📊 Dataset split: {config.split}\")"
   ]
  },
  {
   "cell_type": "markdown",
   "metadata": {},
   "source": [
    "## Step 1: Download Sample Set (~1GB)\n",
    "Run this cell to download the first dataset"
   ]
  },
  {
   "cell_type": "code",
   "execution_count": 4,
   "metadata": {},
   "outputs": [
    {
     "name": "stderr",
     "output_type": "stream",
     "text": [
      "2025-08-12 20:47:39,984 - INFO - Downloading 3 archives for batch 0\n"
     ]
    },
    {
     "name": "stdout",
     "output_type": "stream",
     "text": [
      "📂 Starting Sample Set download...\n"
     ]
    },
    {
     "name": "stderr",
     "output_type": "stream",
     "text": [
      "2025-08-12 20:47:41,154 - INFO - Downloading improvised/dev/0000/0002.tar to /Users/bloggerwang/datasets/seamless_interaction/improvised/dev/0000/0002.tar\n",
      "2025-08-12 20:47:41,154 - INFO - Downloading improvised/dev/0000/0000.tar to /Users/bloggerwang/datasets/seamless_interaction/improvised/dev/0000/0000.tar\n",
      "2025-08-12 20:47:41,154 - INFO - Downloading improvised/dev/0000/0001.tar to /Users/bloggerwang/datasets/seamless_interaction/improvised/dev/0000/0001.tar\n",
      "2025-08-12 20:48:30,817 - INFO - Extracting /Users/bloggerwang/datasets/seamless_interaction/improvised/dev/0000/0001.tar to /Users/bloggerwang/datasets/seamless_interaction/improvised/dev/0000/0001\n",
      "2025-08-12 20:48:32,109 - INFO - Extracting /Users/bloggerwang/datasets/seamless_interaction/improvised/dev/0000/0000.tar to /Users/bloggerwang/datasets/seamless_interaction/improvised/dev/0000/0000\n",
      "2025-08-12 20:48:33,648 - INFO - Extracting /Users/bloggerwang/datasets/seamless_interaction/improvised/dev/0000/0002.tar to /Users/bloggerwang/datasets/seamless_interaction/improvised/dev/0000/0002\n"
     ]
    },
    {
     "name": "stdout",
     "output_type": "stream",
     "text": [
      "✅ Sample Set download complete!\n"
     ]
    }
   ],
   "source": [
    "# Download Sample Set (you can run this when ready)\n",
    "print('📂 Starting Sample Set download...')\n",
    "try:\n",
    "    fs.download_batch_from_hf(batch_idx=0, archive_list=[0, 1, 2])\n",
    "    print('✅ Sample Set download complete!')\n",
    "except Exception as e:\n",
    "    print(f'❌ Download failed: {e}')"
   ]
  },
  {
   "cell_type": "markdown",
   "metadata": {},
   "source": [
    "## Step 2: Download Session Groups (~400MB)\n",
    "Run this after Step 1 completes"
   ]
  },
  {
   "cell_type": "code",
   "execution_count": 5,
   "metadata": {},
   "outputs": [
    {
     "name": "stderr",
     "output_type": "stream",
     "text": [
      "2025-08-12 20:55:16,770 - INFO - Found 33 files for V00_S0925_I00000520_P0816\n"
     ]
    },
    {
     "name": "stdout",
     "output_type": "stream",
     "text": [
      "🎯 Starting Session Groups download...\n",
      "Downloading 1/10: V00_S0925_I00000520_P0816\n"
     ]
    },
    {
     "name": "stderr",
     "output_type": "stream",
     "text": [
      "2025-08-12 20:55:23,901 - INFO - Skipping optional file annotations/1P-IS/V00_S0925_I00000520_P0816.json\n",
      "2025-08-12 20:55:23,953 - INFO - Skipping optional file annotations/3P-IS/V00_S0925_I00000520_P0816.json\n",
      "2025-08-12 20:55:24,489 - INFO - Skipping optional file annotations/1P-R/V00_S0925_I00000520_P0816.json\n",
      "2025-08-12 20:55:24,535 - INFO - Skipping optional file annotations/3P-R/V00_S0925_I00000520_P0816.json\n",
      "2025-08-12 20:55:24,571 - INFO - Skipping optional file annotations/3P-V/V00_S0925_I00000520_P0816.json\n",
      "2025-08-12 20:55:25,404 - INFO - Saved 24 numpy arrays to /Users/bloggerwang/datasets/seamless_interaction/improvised/dev/0000/0022/V00_S0925_I00000520_P0816.npz\n",
      "2025-08-12 20:55:25,405 - INFO - Successfully processed file V00_S0925_I00000520_P0816 to /Users/bloggerwang/datasets/seamless_interaction/improvised/dev/0000/0022\n",
      "2025-08-12 20:55:25,414 - INFO - Found 33 files for V00_S0925_I00000481_P0383\n"
     ]
    },
    {
     "name": "stdout",
     "output_type": "stream",
     "text": [
      "Downloading 2/10: V00_S0925_I00000481_P0383\n"
     ]
    },
    {
     "name": "stderr",
     "output_type": "stream",
     "text": [
      "2025-08-12 20:55:31,452 - INFO - Skipping optional file annotations/1P-IS/V00_S0925_I00000481_P0383.json\n",
      "2025-08-12 20:55:32,079 - INFO - Skipping optional file annotations/1P-R/V00_S0925_I00000481_P0383.json\n",
      "2025-08-12 20:55:32,521 - INFO - Skipping optional file annotations/3P-IS/V00_S0925_I00000481_P0383.json\n",
      "2025-08-12 20:55:32,617 - INFO - Skipping optional file annotations/3P-V/V00_S0925_I00000481_P0383.json\n",
      "2025-08-12 20:55:33,059 - INFO - Skipping optional file annotations/3P-R/V00_S0925_I00000481_P0383.json\n",
      "2025-08-12 20:55:33,494 - INFO - Saved 24 numpy arrays to /Users/bloggerwang/datasets/seamless_interaction/improvised/dev/0000/0015/V00_S0925_I00000481_P0383.npz\n",
      "2025-08-12 20:55:33,495 - INFO - Successfully processed file V00_S0925_I00000481_P0383 to /Users/bloggerwang/datasets/seamless_interaction/improvised/dev/0000/0015\n",
      "2025-08-12 20:55:33,506 - INFO - Found 33 files for V00_S0925_I00000484_P0816\n"
     ]
    },
    {
     "name": "stdout",
     "output_type": "stream",
     "text": [
      "Downloading 3/10: V00_S0925_I00000484_P0816\n"
     ]
    },
    {
     "name": "stderr",
     "output_type": "stream",
     "text": [
      "2025-08-12 20:55:39,867 - INFO - Skipping optional file annotations/1P-IS/V00_S0925_I00000484_P0816.json\n",
      "2025-08-12 20:55:40,077 - INFO - Skipping optional file annotations/3P-IS/V00_S0925_I00000484_P0816.json\n",
      "2025-08-12 20:55:40,084 - INFO - Skipping optional file annotations/3P-V/V00_S0925_I00000484_P0816.json\n",
      "2025-08-12 20:55:40,528 - INFO - Skipping optional file annotations/1P-R/V00_S0925_I00000484_P0816.json\n",
      "2025-08-12 20:55:40,644 - INFO - Skipping optional file annotations/3P-R/V00_S0925_I00000484_P0816.json\n",
      "2025-08-12 20:55:42,388 - INFO - Saved 24 numpy arrays to /Users/bloggerwang/datasets/seamless_interaction/improvised/dev/0000/0048/V00_S0925_I00000484_P0816.npz\n",
      "2025-08-12 20:55:42,389 - INFO - Successfully processed file V00_S0925_I00000484_P0816 to /Users/bloggerwang/datasets/seamless_interaction/improvised/dev/0000/0048\n",
      "2025-08-12 20:55:42,399 - INFO - Found 33 files for V00_S0644_I00000138_P0299A\n"
     ]
    },
    {
     "name": "stdout",
     "output_type": "stream",
     "text": [
      "Downloading 4/10: V00_S0644_I00000138_P0299A\n"
     ]
    },
    {
     "name": "stderr",
     "output_type": "stream",
     "text": [
      "2025-08-12 20:55:48,123 - INFO - Skipping optional file annotations/1P-IS/V00_S0644_I00000138_P0299A.json\n",
      "2025-08-12 20:55:48,231 - INFO - Skipping optional file annotations/3P-IS/V00_S0644_I00000138_P0299A.json\n",
      "2025-08-12 20:55:48,722 - INFO - Skipping optional file annotations/1P-R/V00_S0644_I00000138_P0299A.json\n",
      "2025-08-12 20:55:48,777 - INFO - Skipping optional file annotations/3P-R/V00_S0644_I00000138_P0299A.json\n",
      "2025-08-12 20:55:48,888 - INFO - Skipping optional file annotations/3P-V/V00_S0644_I00000138_P0299A.json\n",
      "2025-08-12 20:55:49,024 - INFO - Saved 24 numpy arrays to /Users/bloggerwang/datasets/seamless_interaction/improvised/dev/0000/0035/V00_S0644_I00000138_P0299A.npz\n",
      "2025-08-12 20:55:49,024 - INFO - Successfully processed file V00_S0644_I00000138_P0299A to /Users/bloggerwang/datasets/seamless_interaction/improvised/dev/0000/0035\n",
      "2025-08-12 20:55:49,032 - INFO - Found 33 files for V00_S2091_I00001095_P1282A\n"
     ]
    },
    {
     "name": "stdout",
     "output_type": "stream",
     "text": [
      "Downloading 5/10: V00_S2091_I00001095_P1282A\n"
     ]
    },
    {
     "name": "stderr",
     "output_type": "stream",
     "text": [
      "2025-08-12 20:55:54,752 - INFO - Skipping optional file annotations/1P-IS/V00_S2091_I00001095_P1282A.json\n",
      "2025-08-12 20:55:54,967 - INFO - Skipping optional file annotations/3P-IS/V00_S2091_I00001095_P1282A.json\n",
      "2025-08-12 20:55:55,063 - INFO - Skipping optional file annotations/3P-V/V00_S2091_I00001095_P1282A.json\n",
      "2025-08-12 20:55:55,317 - INFO - Skipping optional file annotations/1P-R/V00_S2091_I00001095_P1282A.json\n",
      "2025-08-12 20:55:55,521 - INFO - Skipping optional file annotations/3P-R/V00_S2091_I00001095_P1282A.json\n",
      "2025-08-12 20:55:56,963 - INFO - Saved 24 numpy arrays to /Users/bloggerwang/datasets/seamless_interaction/improvised/dev/0000/0040/V00_S2091_I00001095_P1282A.npz\n",
      "2025-08-12 20:55:56,964 - INFO - Successfully processed file V00_S2091_I00001095_P1282A to /Users/bloggerwang/datasets/seamless_interaction/improvised/dev/0000/0040\n",
      "2025-08-12 20:55:56,973 - INFO - Found 33 files for V00_S0925_I00000479_P0383\n"
     ]
    },
    {
     "name": "stdout",
     "output_type": "stream",
     "text": [
      "Downloading 6/10: V00_S0925_I00000479_P0383\n"
     ]
    },
    {
     "name": "stderr",
     "output_type": "stream",
     "text": [
      "2025-08-12 20:56:03,025 - INFO - Skipping optional file annotations/1P-IS/V00_S0925_I00000479_P0383.json\n",
      "2025-08-12 20:56:03,174 - INFO - Skipping optional file annotations/3P-IS/V00_S0925_I00000479_P0383.json\n",
      "2025-08-12 20:56:03,651 - INFO - Skipping optional file annotations/1P-R/V00_S0925_I00000479_P0383.json\n",
      "2025-08-12 20:56:03,683 - INFO - Skipping optional file annotations/3P-V/V00_S0925_I00000479_P0383.json\n",
      "2025-08-12 20:56:03,734 - INFO - Skipping optional file annotations/3P-R/V00_S0925_I00000479_P0383.json\n",
      "2025-08-12 20:56:15,807 - INFO - Saved 24 numpy arrays to /Users/bloggerwang/datasets/seamless_interaction/improvised/dev/0000/0037/V00_S0925_I00000479_P0383.npz\n",
      "2025-08-12 20:56:15,808 - INFO - Successfully processed file V00_S0925_I00000479_P0383 to /Users/bloggerwang/datasets/seamless_interaction/improvised/dev/0000/0037\n",
      "2025-08-12 20:56:15,817 - INFO - Found 33 files for V01_S0172_I00001294_P1316\n"
     ]
    },
    {
     "name": "stdout",
     "output_type": "stream",
     "text": [
      "Downloading 7/10: V01_S0172_I00001294_P1316\n"
     ]
    },
    {
     "name": "stderr",
     "output_type": "stream",
     "text": [
      "2025-08-12 20:56:18,676 - INFO - Skipping optional file movement/emotion_valence/V01_S0172_I00001294_P1316.npy\n",
      "2025-08-12 20:56:18,924 - INFO - Skipping optional file movement/EmotionArousalToken/V01_S0172_I00001294_P1316.npy\n",
      "2025-08-12 20:56:19,192 - INFO - Skipping optional file movement/expression/V01_S0172_I00001294_P1316.npy\n",
      "2025-08-12 20:56:19,264 - INFO - Skipping optional file movement/EmotionValenceToken/V01_S0172_I00001294_P1316.npy\n",
      "2025-08-12 20:56:19,366 - INFO - Skipping optional file movement/gaze_encodings/V01_S0172_I00001294_P1316.npy\n",
      "2025-08-12 20:56:19,424 - INFO - Skipping optional file movement/frame_latent/V01_S0172_I00001294_P1316.npy\n",
      "2025-08-12 20:56:19,508 - INFO - Skipping optional file movement/head_encodings/V01_S0172_I00001294_P1316.npy\n",
      "2025-08-12 20:56:19,660 - INFO - Skipping optional file movement/FAUToken/V01_S0172_I00001294_P1316.npy\n",
      "2025-08-12 20:56:19,859 - INFO - Skipping optional file movement/alignment_head_rotation/V01_S0172_I00001294_P1316.npy\n",
      "2025-08-12 20:56:19,908 - INFO - Skipping optional file movement/hypernet_features/V01_S0172_I00001294_P1316.npy\n",
      "2025-08-12 20:56:19,985 - INFO - Skipping optional file movement/FAUValue/V01_S0172_I00001294_P1316.npy\n",
      "2025-08-12 20:56:20,056 - INFO - Skipping optional file movement/alignment_translation/V01_S0172_I00001294_P1316.npy\n",
      "2025-08-12 20:56:20,229 - INFO - Skipping optional file movement/is_valid/V01_S0172_I00001294_P1316.npy\n",
      "2025-08-12 20:56:20,475 - INFO - Skipping optional file movement/emotion_arousal/V01_S0172_I00001294_P1316.npy\n",
      "2025-08-12 20:56:20,568 - INFO - Skipping optional file annotations/1P-IS/V01_S0172_I00001294_P1316.json\n",
      "2025-08-12 20:56:20,653 - INFO - Skipping optional file annotations/3P-IS/V01_S0172_I00001294_P1316.json\n",
      "2025-08-12 20:56:20,798 - INFO - Skipping optional file movement/emotion_scores/V01_S0172_I00001294_P1316.npy\n",
      "2025-08-12 20:56:21,097 - INFO - Skipping optional file annotations/3P-V/V01_S0172_I00001294_P1316.json\n",
      "2025-08-12 20:56:21,214 - INFO - Skipping optional file annotations/1P-R/V01_S0172_I00001294_P1316.json\n",
      "2025-08-12 20:56:21,308 - INFO - Skipping optional file annotations/3P-R/V01_S0172_I00001294_P1316.json\n",
      "2025-08-12 20:56:22,318 - INFO - Saved 9 numpy arrays to /Users/bloggerwang/datasets/seamless_interaction/improvised/dev/0000/0020/V01_S0172_I00001294_P1316.npz\n",
      "2025-08-12 20:56:22,318 - INFO - Successfully processed file V01_S0172_I00001294_P1316 to /Users/bloggerwang/datasets/seamless_interaction/improvised/dev/0000/0020\n",
      "2025-08-12 20:56:22,326 - INFO - Found 33 files for V01_S0308_I00001228_P1618\n"
     ]
    },
    {
     "name": "stdout",
     "output_type": "stream",
     "text": [
      "Downloading 8/10: V01_S0308_I00001228_P1618\n"
     ]
    },
    {
     "name": "stderr",
     "output_type": "stream",
     "text": [
      "2025-08-12 20:56:25,201 - INFO - Skipping optional file movement/emotion_valence/V01_S0308_I00001228_P1618.npy\n",
      "2025-08-12 20:56:25,838 - INFO - Skipping optional file movement/expression/V01_S0308_I00001228_P1618.npy\n",
      "2025-08-12 20:56:25,878 - INFO - Skipping optional file movement/frame_latent/V01_S0308_I00001228_P1618.npy\n",
      "2025-08-12 20:56:25,880 - INFO - Skipping optional file movement/EmotionValenceToken/V01_S0308_I00001228_P1618.npy\n",
      "2025-08-12 20:56:26,013 - INFO - Skipping optional file movement/gaze_encodings/V01_S0308_I00001228_P1618.npy\n",
      "2025-08-12 20:56:26,313 - INFO - Skipping optional file movement/EmotionArousalToken/V01_S0308_I00001228_P1618.npy\n",
      "2025-08-12 20:56:26,336 - INFO - Skipping optional file movement/FAUToken/V01_S0308_I00001228_P1618.npy\n",
      "2025-08-12 20:56:26,416 - INFO - Skipping optional file movement/FAUValue/V01_S0308_I00001228_P1618.npy\n",
      "2025-08-12 20:56:26,466 - INFO - Skipping optional file movement/head_encodings/V01_S0308_I00001228_P1618.npy\n",
      "2025-08-12 20:56:26,557 - INFO - Skipping optional file movement/alignment_head_rotation/V01_S0308_I00001228_P1618.npy\n",
      "2025-08-12 20:56:26,706 - INFO - Skipping optional file movement/is_valid/V01_S0308_I00001228_P1618.npy\n",
      "2025-08-12 20:56:26,975 - INFO - Skipping optional file movement/hypernet_features/V01_S0308_I00001228_P1618.npy\n",
      "2025-08-12 20:56:26,975 - INFO - Skipping optional file movement/alignment_translation/V01_S0308_I00001228_P1618.npy\n",
      "2025-08-12 20:56:27,068 - INFO - Skipping optional file annotations/1P-IS/V01_S0308_I00001228_P1618.json\n",
      "2025-08-12 20:56:27,276 - INFO - Skipping optional file movement/emotion_scores/V01_S0308_I00001228_P1618.npy\n",
      "2025-08-12 20:56:27,316 - INFO - Skipping optional file movement/emotion_arousal/V01_S0308_I00001228_P1618.npy\n",
      "2025-08-12 20:56:27,525 - INFO - Skipping optional file annotations/3P-IS/V01_S0308_I00001228_P1618.json\n",
      "2025-08-12 20:56:27,590 - INFO - Skipping optional file annotations/1P-R/V01_S0308_I00001228_P1618.json\n",
      "2025-08-12 20:56:27,869 - INFO - Skipping optional file annotations/3P-V/V01_S0308_I00001228_P1618.json\n",
      "2025-08-12 20:56:28,129 - INFO - Skipping optional file annotations/3P-R/V01_S0308_I00001228_P1618.json\n",
      "2025-08-12 20:56:29,770 - INFO - Saved 9 numpy arrays to /Users/bloggerwang/datasets/seamless_interaction/improvised/dev/0000/0021/V01_S0308_I00001228_P1618.npz\n",
      "2025-08-12 20:56:29,770 - INFO - Successfully processed file V01_S0308_I00001228_P1618 to /Users/bloggerwang/datasets/seamless_interaction/improvised/dev/0000/0021\n",
      "2025-08-12 20:56:29,778 - INFO - Found 33 files for V01_S0346_I00000724_P1694\n"
     ]
    },
    {
     "name": "stdout",
     "output_type": "stream",
     "text": [
      "Downloading 9/10: V01_S0346_I00000724_P1694\n"
     ]
    },
    {
     "name": "stderr",
     "output_type": "stream",
     "text": [
      "2025-08-12 20:56:32,218 - INFO - Skipping optional file movement/emotion_valence/V01_S0346_I00000724_P1694.npy\n",
      "2025-08-12 20:56:32,393 - INFO - Skipping optional file movement/EmotionArousalToken/V01_S0346_I00000724_P1694.npy\n",
      "2025-08-12 20:56:32,733 - INFO - Skipping optional file movement/expression/V01_S0346_I00000724_P1694.npy\n",
      "2025-08-12 20:56:32,794 - INFO - Skipping optional file movement/gaze_encodings/V01_S0346_I00000724_P1694.npy\n",
      "2025-08-12 20:56:32,812 - INFO - Skipping optional file movement/frame_latent/V01_S0346_I00000724_P1694.npy\n",
      "2025-08-12 20:56:32,830 - INFO - Skipping optional file movement/EmotionValenceToken/V01_S0346_I00000724_P1694.npy\n",
      "2025-08-12 20:56:32,895 - INFO - Skipping optional file movement/head_encodings/V01_S0346_I00000724_P1694.npy\n",
      "2025-08-12 20:56:33,316 - INFO - Skipping optional file movement/FAUToken/V01_S0346_I00000724_P1694.npy\n",
      "2025-08-12 20:56:33,336 - INFO - Skipping optional file movement/alignment_head_rotation/V01_S0346_I00000724_P1694.npy\n",
      "2025-08-12 20:56:33,352 - INFO - Skipping optional file movement/FAUValue/V01_S0346_I00000724_P1694.npy\n",
      "2025-08-12 20:56:33,432 - INFO - Skipping optional file movement/hypernet_features/V01_S0346_I00000724_P1694.npy\n",
      "2025-08-12 20:56:33,435 - INFO - Skipping optional file movement/alignment_translation/V01_S0346_I00000724_P1694.npy\n",
      "2025-08-12 20:56:33,925 - INFO - Skipping optional file movement/is_valid/V01_S0346_I00000724_P1694.npy\n",
      "2025-08-12 20:56:33,988 - INFO - Skipping optional file movement/emotion_arousal/V01_S0346_I00000724_P1694.npy\n",
      "2025-08-12 20:56:33,999 - INFO - Skipping optional file annotations/1P-IS/V01_S0346_I00000724_P1694.json\n",
      "2025-08-12 20:56:34,028 - INFO - Skipping optional file annotations/3P-IS/V01_S0346_I00000724_P1694.json\n",
      "2025-08-12 20:56:34,491 - INFO - Skipping optional file movement/emotion_scores/V01_S0346_I00000724_P1694.npy\n",
      "2025-08-12 20:56:34,549 - INFO - Skipping optional file annotations/1P-R/V01_S0346_I00000724_P1694.json\n",
      "2025-08-12 20:56:34,601 - INFO - Skipping optional file annotations/3P-V/V01_S0346_I00000724_P1694.json\n",
      "2025-08-12 20:56:34,642 - INFO - Skipping optional file annotations/3P-R/V01_S0346_I00000724_P1694.json\n",
      "2025-08-12 20:56:34,697 - INFO - Saved 9 numpy arrays to /Users/bloggerwang/datasets/seamless_interaction/improvised/dev/0000/0034/V01_S0346_I00000724_P1694.npz\n",
      "2025-08-12 20:56:34,698 - INFO - Successfully processed file V01_S0346_I00000724_P1694 to /Users/bloggerwang/datasets/seamless_interaction/improvised/dev/0000/0034\n",
      "2025-08-12 20:56:34,708 - INFO - Found 33 files for V01_S0304_I00001162_P1627\n"
     ]
    },
    {
     "name": "stdout",
     "output_type": "stream",
     "text": [
      "Downloading 10/10: V01_S0304_I00001162_P1627\n"
     ]
    },
    {
     "name": "stderr",
     "output_type": "stream",
     "text": [
      "2025-08-12 20:56:37,636 - INFO - Skipping optional file movement/emotion_valence/V01_S0304_I00001162_P1627.npy\n",
      "2025-08-12 20:56:38,040 - INFO - Skipping optional file movement/expression/V01_S0304_I00001162_P1627.npy\n",
      "2025-08-12 20:56:38,277 - INFO - Skipping optional file movement/EmotionValenceToken/V01_S0304_I00001162_P1627.npy\n",
      "2025-08-12 20:56:38,585 - INFO - Skipping optional file movement/gaze_encodings/V01_S0304_I00001162_P1627.npy\n",
      "2025-08-12 20:56:38,590 - INFO - Skipping optional file movement/frame_latent/V01_S0304_I00001162_P1627.npy\n",
      "2025-08-12 20:56:38,620 - INFO - Skipping optional file movement/FAUToken/V01_S0304_I00001162_P1627.npy\n",
      "2025-08-12 20:56:38,892 - INFO - Skipping optional file movement/head_encodings/V01_S0304_I00001162_P1627.npy\n",
      "2025-08-12 20:56:39,117 - INFO - Skipping optional file movement/EmotionArousalToken/V01_S0304_I00001162_P1627.npy\n",
      "2025-08-12 20:56:39,173 - INFO - Skipping optional file movement/FAUValue/V01_S0304_I00001162_P1627.npy\n",
      "2025-08-12 20:56:39,187 - INFO - Skipping optional file movement/alignment_head_rotation/V01_S0304_I00001162_P1627.npy\n",
      "2025-08-12 20:56:39,213 - INFO - Skipping optional file movement/hypernet_features/V01_S0304_I00001162_P1627.npy\n",
      "2025-08-12 20:56:39,456 - INFO - Skipping optional file movement/alignment_translation/V01_S0304_I00001162_P1627.npy\n",
      "2025-08-12 20:56:39,706 - INFO - Skipping optional file movement/is_valid/V01_S0304_I00001162_P1627.npy\n",
      "2025-08-12 20:56:39,753 - INFO - Skipping optional file movement/emotion_arousal/V01_S0304_I00001162_P1627.npy\n",
      "2025-08-12 20:56:39,772 - INFO - Skipping optional file annotations/1P-IS/V01_S0304_I00001162_P1627.json\n",
      "2025-08-12 20:56:40,051 - INFO - Skipping optional file movement/emotion_scores/V01_S0304_I00001162_P1627.npy\n",
      "2025-08-12 20:56:40,089 - INFO - Skipping optional file annotations/3P-IS/V01_S0304_I00001162_P1627.json\n",
      "2025-08-12 20:56:40,376 - INFO - Skipping optional file annotations/3P-V/V01_S0304_I00001162_P1627.json\n",
      "2025-08-12 20:56:40,378 - INFO - Skipping optional file annotations/1P-R/V01_S0304_I00001162_P1627.json\n",
      "2025-08-12 20:56:40,704 - INFO - Skipping optional file annotations/3P-R/V01_S0304_I00001162_P1627.json\n",
      "2025-08-12 20:56:42,994 - INFO - Saved 9 numpy arrays to /Users/bloggerwang/datasets/seamless_interaction/improvised/dev/0000/0017/V01_S0304_I00001162_P1627.npz\n",
      "2025-08-12 20:56:42,995 - INFO - Successfully processed file V01_S0304_I00001162_P1627 to /Users/bloggerwang/datasets/seamless_interaction/improvised/dev/0000/0017\n"
     ]
    },
    {
     "name": "stdout",
     "output_type": "stream",
     "text": [
      "✅ Session Groups download complete!\n"
     ]
    }
   ],
   "source": [
    "# Download Session Groups (run this after Sample Set is done)\n",
    "print('🎯 Starting Session Groups download...')\n",
    "try:\n",
    "    file_ids = fs.sample_random_file_ids(num_samples=10)  # Start smaller\n",
    "    for i, file_id in enumerate(file_ids):\n",
    "        print(f'Downloading {i+1}/10: {file_id}')\n",
    "        fs.gather_file_id_data_from_s3(file_id)\n",
    "    print('✅ Session Groups download complete!')\n",
    "except Exception as e:\n",
    "    print(f'❌ Download failed: {e}')"
   ]
  },
  {
   "cell_type": "markdown",
   "metadata": {},
   "source": [
    "## Step 3: Basic File Structure Analysis\n",
    "Let's see what we downloaded"
   ]
  },
  {
   "cell_type": "code",
   "execution_count": null,
   "metadata": {},
   "outputs": [],
   "source": [
    "# Analyze file structure\n",
    "local_files = list(config.local_dir.rglob(\"*\"))\n",
    "print(f\"Total files found: {len([f for f in local_files if f.is_file()])}\")\n",
    "\n",
    "# Count by file type\n",
    "file_types = {}\n",
    "for file_path in local_files:\n",
    "    if file_path.is_file():\n",
    "        ext = file_path.suffix.lower()\n",
    "        file_types[ext] = file_types.get(ext, 0) + 1\n",
    "\n",
    "# Display as DataFrame\n",
    "df_files = pd.DataFrame([\n",
    "    {'File_Type': ext, 'Count': count}\n",
    "    for ext, count in file_types.items()\n",
    "])\n",
    "\n",
    "print(\"\\n📁 File Type Distribution:\")\n",
    "display(df_files)"
   ]
  },
  {
   "cell_type": "code",
   "execution_count": null,
   "metadata": {},
   "outputs": [],
   "source": [
    "# Visualize file distribution\n",
    "plt.figure(figsize=(10, 6))\n",
    "plt.subplot(1, 2, 1)\n",
    "plt.pie(df_files['Count'], labels=df_files['File_Type'], autopct='%1.1f%%')\n",
    "plt.title('File Type Distribution')\n",
    "\n",
    "plt.subplot(1, 2, 2)\n",
    "plt.bar(df_files['File_Type'], df_files['Count'])\n",
    "plt.title('File Counts by Type')\n",
    "plt.xticks(rotation=45)\n",
    "\n",
    "plt.tight_layout()\n",
    "plt.show()"
   ]
  }
 ],
 "metadata": {
  "kernelspec": {
   "display_name": "seamless-interaction",
   "language": "python",
   "name": "python3"
  },
  "language_info": {
   "codemirror_mode": {
    "name": "ipython",
    "version": 3
   },
   "file_extension": ".py",
   "mimetype": "text/x-python",
   "name": "python",
   "nbconvert_exporter": "python",
   "pygments_lexer": "ipython3",
   "version": "3.10.2"
  }
 },
 "nbformat": 4,
 "nbformat_minor": 5
}

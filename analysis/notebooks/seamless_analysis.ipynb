{
 "cells": [
  {
   "cell_type": "markdown",
   "metadata": {},
   "source": [
    "# Seamless Interaction Dataset Analysis\n",
    "**Author:** bloggerwang1217  \n",
    "**Date:** 2025-08-12  \n",
    "**Goal:** Descriptive statistics for Sample Set + Session Groups\n"
   ]
  },
  {
   "cell_type": "code",
   "execution_count": null,
   "metadata": {},
   "outputs": [],
   "source": [
    "# Import libraries\n",
    "import pandas as pd\n",
    "import numpy as np\n",
    "import matplotlib.pyplot as plt\n",
    "import seaborn as sns\n",
    "from pathlib import Path\n",
    "import json\n",
    "import cv2\n",
    "import librosa\n",
    "from seamless_interaction.fs import SeamlessInteractionFS, DatasetConfig\n",
    "import warnings\n",
    "warnings.filterwarnings('ignore')\n",
    "\n",
    "# Set up plotting style\n",
    "plt.style.use('seaborn-v0_8')\n",
    "sns.set_palette(\"husl\")\n",
    "\n",
    "print(\"✅ Libraries imported successfully!\")"
   ]
  },
  {
   "cell_type": "code",
   "execution_count": null,
   "metadata": {},
   "outputs": [],
   "source": [
    "# Initialize dataset configuration\n",
    "config = DatasetConfig(\n",
    "    label='improvised', \n",
    "    split='dev',\n",
    "    preferred_vendors_only=True,\n",
    "    local_dir=Path.home() / 'datasets/seamless_interaction'\n",
    ")\n",
    "fs = SeamlessInteractionFS(config=config)\n",
    "\n",
    "print(f\"📁 Dataset location: {config.local_dir}\")\n",
    "print(f\"🏷️  Dataset label: {config.label}\")\n",
    "print(f\"📊 Dataset split: {config.split}\")"
   ]
  },
  {
   "cell_type": "markdown",
   "metadata": {},
   "source": [
    "## Step 1: Download Sample Set (~1GB)\n",
    "Run this cell to download the first dataset"
   ]
  },
  {
   "cell_type": "code",
   "execution_count": null,
   "metadata": {},
   "outputs": [],
   "source": [
    "# Download Sample Set (you can run this when ready)\n",
    "print('📂 Starting Sample Set download...')\n",
    "try:\n",
    "    fs.download_batch_from_hf(batch_idx=0, archive_list=[0, 1, 2])\n",
    "    print('✅ Sample Set download complete!')\n",
    "except Exception as e:\n",
    "    print(f'❌ Download failed: {e}')"
   ]
  },
  {
   "cell_type": "markdown",
   "metadata": {},
   "source": [
    "## Step 2: Download Session Groups (~400MB)\n",
    "Run this after Step 1 completes"
   ]
  },
  {
   "cell_type": "code",
   "execution_count": null,
   "metadata": {},
   "outputs": [],
   "source": [
    "# Download Session Groups (run this after Sample Set is done)\n",
    "print('🎯 Starting Session Groups download...')\n",
    "try:\n",
    "    file_ids = fs.sample_random_file_ids(num_samples=10)  # Start smaller\n",
    "    for i, file_id in enumerate(file_ids):\n",
    "        print(f'Downloading {i+1}/10: {file_id}')\n",
    "        fs.gather_file_id_data_from_s3(file_id)\n",
    "    print('✅ Session Groups download complete!')\n",
    "except Exception as e:\n",
    "    print(f'❌ Download failed: {e}')"
   ]
  },
  {
   "cell_type": "markdown",
   "metadata": {},
   "source": [
    "## Step 3: Basic File Structure Analysis\n",
    "Let's see what we downloaded"
   ]
  },
  {
   "cell_type": "code",
   "execution_count": null,
   "metadata": {},
   "outputs": [],
   "source": [
    "# Analyze file structure\n",
    "local_files = list(config.local_dir.rglob(\"*\"))\n",
    "print(f\"Total files found: {len([f for f in local_files if f.is_file()])}\")\n",
    "\n",
    "# Count by file type\n",
    "file_types = {}\n",
    "for file_path in local_files:\n",
    "    if file_path.is_file():\n",
    "        ext = file_path.suffix.lower()\n",
    "        file_types[ext] = file_types.get(ext, 0) + 1\n",
    "\n",
    "# Display as DataFrame\n",
    "df_files = pd.DataFrame([\n",
    "    {'File_Type': ext, 'Count': count}\n",
    "    for ext, count in file_types.items()\n",
    "])\n",
    "\n",
    "print(\"\\n📁 File Type Distribution:\")\n",
    "display(df_files)"
   ]
  },
  {
   "cell_type": "code",
   "execution_count": null,
   "metadata": {},
   "outputs": [],
   "source": [
    "# Visualize file distribution\n",
    "plt.figure(figsize=(10, 6))\n",
    "plt.subplot(1, 2, 1)\n",
    "plt.pie(df_files['Count'], labels=df_files['File_Type'], autopct='%1.1f%%')\n",
    "plt.title('File Type Distribution')\n",
    "\n",
    "plt.subplot(1, 2, 2)\n",
    "plt.bar(df_files['File_Type'], df_files['Count'])\n",
    "plt.title('File Counts by Type')\n",
    "plt.xticks(rotation=45)\n",
    "\n",
    "plt.tight_layout()\n",
    "plt.show()"
   ]
  }
 ],
 "metadata": {
  "kernelspec": {
   "display_name": "Python 3",
   "language": "python",
   "name": "python3"
  },
  "language_info": {
   "codemirror_mode": {
    "name": "ipython",
    "version": 3
   },
   "file_extension": ".py",
   "mimetype": "text/x-python",
   "name": "python",
   "nbconvert_exporter": "python",
   "pygments_lexer": "ipython3",
   "version": "3.10.0"
  }
 }
}
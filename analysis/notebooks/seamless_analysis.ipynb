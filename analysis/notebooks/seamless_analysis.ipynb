{
 "cells": [
  {
   "cell_type": "markdown",
   "metadata": {},
   "source": [
    "# Seamless Interaction Dataset Analysis\n",
    "**Author:** bloggerwang1217  \n",
    "**Date:** 2025-08-12  \n",
    "**Goal:** Descriptive statistics for Sample Set + Session Groups\n"
   ]
  },
  {
   "cell_type": "code",
   "execution_count": 2,
   "metadata": {},
   "outputs": [
    {
     "name": "stdout",
     "output_type": "stream",
     "text": [
      "✅ Libraries imported successfully!\n"
     ]
    }
   ],
   "source": [
    "# Import libraries\n",
    "import pandas as pd\n",
    "import numpy as np\n",
    "import matplotlib.pyplot as plt\n",
    "import seaborn as sns\n",
    "from pathlib import Path\n",
    "import json\n",
    "import cv2\n",
    "import librosa\n",
    "from seamless_interaction.fs import SeamlessInteractionFS, DatasetConfig\n",
    "import warnings\n",
    "warnings.filterwarnings('ignore')\n",
    "\n",
    "# Set up plotting style\n",
    "plt.style.use('seaborn-v0_8')\n",
    "sns.set_palette(\"husl\")\n",
    "\n",
    "print(\"✅ Libraries imported successfully!\")"
   ]
  },
  {
   "cell_type": "code",
   "execution_count": 13,
   "metadata": {},
   "outputs": [
    {
     "name": "stderr",
     "output_type": "stream",
     "text": [
      "2025-08-12 21:37:04,503 - INFO - Loaded filelist with 129572 entries\n",
      "2025-08-12 21:37:04,580 - INFO - Loaded filelist with 129572 entries\n",
      "2025-08-12 21:37:04,580 - INFO - Loaded filelist with 129572 entries\n"
     ]
    },
    {
     "name": "stdout",
     "output_type": "stream",
     "text": [
      "📁 Sample Set location: ../dataset/sample_set\n",
      "🏷️  Sample Set label: improvised\n",
      "📊 Sample Set split: dev\n",
      "📁 Session Groups location: ../dataset/session_groups\n",
      "🏷️  Session Groups label: improvised\n",
      "📊 Session Groups split: dev\n"
     ]
    }
   ],
   "source": [
    "# Initialize Sample Set configuration\n",
    "sample_config = DatasetConfig(\n",
    "    label='improvised', \n",
    "    split='dev',\n",
    "    preferred_vendors_only=True,\n",
    "    local_dir=Path('../dataset/sample_set')\n",
    ")\n",
    "sample_fs = SeamlessInteractionFS(config=sample_config)\n",
    "print(f'📁 Sample Set location: {sample_config.local_dir}')\n",
    "print(f'🏷️  Sample Set label: {sample_config.label}')\n",
    "print(f'📊 Sample Set split: {sample_config.split}')\n",
    "\n",
    "# Initialize Session Groups configuration\n",
    "session_config = DatasetConfig(\n",
    "    label='improvised', \n",
    "    split='dev',\n",
    "    preferred_vendors_only=True,\n",
    "    local_dir=Path('../dataset/session_groups')\n",
    ")\n",
    "session_fs = SeamlessInteractionFS(config=session_config)\n",
    "print(f'📁 Session Groups location: {session_config.local_dir}')\n",
    "print(f'🏷️  Session Groups label: {session_config.label}')\n",
    "print(f'📊 Session Groups split: {session_config.split}')"
   ]
  },
  {
   "cell_type": "markdown",
   "metadata": {},
   "source": [
    "## Step 1: Download Sample Set (~1GB)\n",
    "Run this cell to download the first dataset"
   ]
  },
  {
   "cell_type": "code",
   "execution_count": 14,
   "metadata": {},
   "outputs": [
    {
     "name": "stderr",
     "output_type": "stream",
     "text": [
      "2025-08-12 21:37:14,227 - INFO - Downloading 3 archives for batch 0\n"
     ]
    },
    {
     "name": "stdout",
     "output_type": "stream",
     "text": [
      "📂 Starting Sample Set download...\n"
     ]
    },
    {
     "name": "stderr",
     "output_type": "stream",
     "text": [
      "2025-08-12 21:37:15,395 - INFO - Downloading improvised/dev/0000/0002.tar to ../dataset/sample_set/improvised/dev/0000/0002.tar\n",
      "2025-08-12 21:37:15,395 - INFO - Downloading improvised/dev/0000/0000.tar to ../dataset/sample_set/improvised/dev/0000/0000.tar\n",
      "2025-08-12 21:37:15,395 - INFO - Downloading improvised/dev/0000/0001.tar to ../dataset/sample_set/improvised/dev/0000/0001.tar\n",
      "2025-08-12 21:37:35,477 - INFO - Extracting ../dataset/sample_set/improvised/dev/0000/0000.tar to ../dataset/sample_set/improvised/dev/0000/0000\n",
      "2025-08-12 21:37:35,477 - INFO - Extracting ../dataset/sample_set/improvised/dev/0000/0000.tar to ../dataset/sample_set/improvised/dev/0000/0000\n",
      "2025-08-12 21:37:42,431 - INFO - Extracting ../dataset/sample_set/improvised/dev/0000/0001.tar to ../dataset/sample_set/improvised/dev/0000/0001\n",
      "2025-08-12 21:37:42,431 - INFO - Extracting ../dataset/sample_set/improvised/dev/0000/0001.tar to ../dataset/sample_set/improvised/dev/0000/0001\n",
      "2025-08-12 21:37:42,943 - INFO - Extracting ../dataset/sample_set/improvised/dev/0000/0002.tar to ../dataset/sample_set/improvised/dev/0000/0002\n",
      "2025-08-12 21:37:42,943 - INFO - Extracting ../dataset/sample_set/improvised/dev/0000/0002.tar to ../dataset/sample_set/improvised/dev/0000/0002\n"
     ]
    },
    {
     "name": "stdout",
     "output_type": "stream",
     "text": [
      "✅ Sample Set download complete!\n"
     ]
    }
   ],
   "source": [
    "# Download Sample Set (you can run this when ready)\n",
    "print('📂 Starting Sample Set download...')\n",
    "try:\n",
    "    sample_fs.download_batch_from_hf(batch_idx=0, archive_list=[0, 1, 2])\n",
    "    print('✅ Sample Set download complete!')\n",
    "except Exception as e:\n",
    "    print(f'❌ Download failed: {e}')"
   ]
  },
  {
   "cell_type": "markdown",
   "metadata": {},
   "source": [
    "## Step 2: Download Session Groups (~400MB)\n",
    "Run this after Step 1 completes"
   ]
  },
  {
   "cell_type": "code",
   "execution_count": 21,
   "metadata": {},
   "outputs": [
    {
     "name": "stderr",
     "output_type": "stream",
     "text": [
      "2025-08-12 21:48:13,721 - INFO - Found 33 files for V00_S0700_I00000576_P0844A\n"
     ]
    },
    {
     "name": "stdout",
     "output_type": "stream",
     "text": [
      "🎯 Starting Session Groups download...\n",
      "Downloading 1/10: V00_S0700_I00000576_P0844A\n"
     ]
    },
    {
     "name": "stderr",
     "output_type": "stream",
     "text": [
      "2025-08-12 21:48:19,533 - INFO - Skipping optional file annotations/1P-IS/V00_S0700_I00000576_P0844A.json\n",
      "2025-08-12 21:48:19,558 - INFO - Skipping optional file annotations/3P-IS/V00_S0700_I00000576_P0844A.json\n",
      "2025-08-12 21:48:19,645 - INFO - Skipping optional file annotations/3P-V/V00_S0700_I00000576_P0844A.json\n",
      "2025-08-12 21:48:20,036 - INFO - Skipping optional file annotations/1P-R/V00_S0700_I00000576_P0844A.json\n",
      "2025-08-12 21:48:20,085 - INFO - Skipping optional file annotations/3P-R/V00_S0700_I00000576_P0844A.json\n",
      "2025-08-12 21:48:20,208 - INFO - Saved 24 numpy arrays to ../dataset/session_groups/improvised/dev/0000/0051/V00_S0700_I00000576_P0844A.npz\n",
      "2025-08-12 21:48:20,208 - INFO - Successfully processed file V00_S0700_I00000576_P0844A to ../dataset/session_groups/improvised/dev/0000/0051\n",
      "2025-08-12 21:48:20,036 - INFO - Skipping optional file annotations/1P-R/V00_S0700_I00000576_P0844A.json\n",
      "2025-08-12 21:48:20,085 - INFO - Skipping optional file annotations/3P-R/V00_S0700_I00000576_P0844A.json\n",
      "2025-08-12 21:48:20,208 - INFO - Saved 24 numpy arrays to ../dataset/session_groups/improvised/dev/0000/0051/V00_S0700_I00000576_P0844A.npz\n",
      "2025-08-12 21:48:20,208 - INFO - Successfully processed file V00_S0700_I00000576_P0844A to ../dataset/session_groups/improvised/dev/0000/0051\n",
      "2025-08-12 21:48:20,216 - INFO - Found 33 files for V00_S0809_I00000785_P0383\n",
      "2025-08-12 21:48:20,216 - INFO - Found 33 files for V00_S0809_I00000785_P0383\n"
     ]
    },
    {
     "name": "stdout",
     "output_type": "stream",
     "text": [
      "Downloading 2/10: V00_S0809_I00000785_P0383\n"
     ]
    },
    {
     "name": "stderr",
     "output_type": "stream",
     "text": [
      "2025-08-12 21:48:26,552 - INFO - Skipping optional file annotations/1P-IS/V00_S0809_I00000785_P0383.json\n",
      "2025-08-12 21:48:26,983 - INFO - Skipping optional file annotations/3P-IS/V00_S0809_I00000785_P0383.json\n",
      "2025-08-12 21:48:27,142 - INFO - Skipping optional file annotations/1P-R/V00_S0809_I00000785_P0383.json\n",
      "2025-08-12 21:48:26,983 - INFO - Skipping optional file annotations/3P-IS/V00_S0809_I00000785_P0383.json\n",
      "2025-08-12 21:48:27,142 - INFO - Skipping optional file annotations/1P-R/V00_S0809_I00000785_P0383.json\n",
      "2025-08-12 21:48:27,245 - INFO - Skipping optional file annotations/3P-V/V00_S0809_I00000785_P0383.json\n",
      "2025-08-12 21:48:27,245 - INFO - Skipping optional file annotations/3P-V/V00_S0809_I00000785_P0383.json\n",
      "2025-08-12 21:48:27,580 - INFO - Skipping optional file annotations/3P-R/V00_S0809_I00000785_P0383.json\n",
      "2025-08-12 21:48:27,580 - INFO - Skipping optional file annotations/3P-R/V00_S0809_I00000785_P0383.json\n",
      "2025-08-12 21:48:27,856 - INFO - Saved 24 numpy arrays to ../dataset/session_groups/improvised/dev/0000/0028/V00_S0809_I00000785_P0383.npz\n",
      "2025-08-12 21:48:27,857 - INFO - Successfully processed file V00_S0809_I00000785_P0383 to ../dataset/session_groups/improvised/dev/0000/0028\n",
      "2025-08-12 21:48:27,856 - INFO - Saved 24 numpy arrays to ../dataset/session_groups/improvised/dev/0000/0028/V00_S0809_I00000785_P0383.npz\n",
      "2025-08-12 21:48:27,857 - INFO - Successfully processed file V00_S0809_I00000785_P0383 to ../dataset/session_groups/improvised/dev/0000/0028\n",
      "2025-08-12 21:48:27,866 - INFO - Found 33 files for V01_S0935_I00001226_P2040\n",
      "2025-08-12 21:48:27,866 - INFO - Found 33 files for V01_S0935_I00001226_P2040\n"
     ]
    },
    {
     "name": "stdout",
     "output_type": "stream",
     "text": [
      "Downloading 3/10: V01_S0935_I00001226_P2040\n"
     ]
    },
    {
     "name": "stderr",
     "output_type": "stream",
     "text": [
      "2025-08-12 21:48:30,807 - INFO - Skipping optional file movement/emotion_valence/V01_S0935_I00001226_P2040.npy\n",
      "2025-08-12 21:48:30,983 - INFO - Skipping optional file movement/EmotionArousalToken/V01_S0935_I00001226_P2040.npy\n",
      "2025-08-12 21:48:31,139 - INFO - Skipping optional file movement/expression/V01_S0935_I00001226_P2040.npy\n",
      "2025-08-12 21:48:31,142 - INFO - Skipping optional file movement/frame_latent/V01_S0935_I00001226_P2040.npy\n",
      "2025-08-12 21:48:31,233 - INFO - Skipping optional file movement/gaze_encodings/V01_S0935_I00001226_P2040.npy\n",
      "2025-08-12 21:48:31,139 - INFO - Skipping optional file movement/expression/V01_S0935_I00001226_P2040.npy\n",
      "2025-08-12 21:48:31,142 - INFO - Skipping optional file movement/frame_latent/V01_S0935_I00001226_P2040.npy\n",
      "2025-08-12 21:48:31,233 - INFO - Skipping optional file movement/gaze_encodings/V01_S0935_I00001226_P2040.npy\n",
      "2025-08-12 21:48:31,401 - INFO - Skipping optional file movement/EmotionValenceToken/V01_S0935_I00001226_P2040.npy\n",
      "2025-08-12 21:48:31,570 - INFO - Skipping optional file movement/head_encodings/V01_S0935_I00001226_P2040.npy\n",
      "2025-08-12 21:48:31,401 - INFO - Skipping optional file movement/EmotionValenceToken/V01_S0935_I00001226_P2040.npy\n",
      "2025-08-12 21:48:31,570 - INFO - Skipping optional file movement/head_encodings/V01_S0935_I00001226_P2040.npy\n",
      "2025-08-12 21:48:31,627 - INFO - Skipping optional file movement/FAUValue/V01_S0935_I00001226_P2040.npy\n",
      "2025-08-12 21:48:31,707 - INFO - Skipping optional file movement/FAUToken/V01_S0935_I00001226_P2040.npy\n",
      "2025-08-12 21:48:31,714 - INFO - Skipping optional file movement/alignment_head_rotation/V01_S0935_I00001226_P2040.npy\n",
      "2025-08-12 21:48:31,627 - INFO - Skipping optional file movement/FAUValue/V01_S0935_I00001226_P2040.npy\n",
      "2025-08-12 21:48:31,707 - INFO - Skipping optional file movement/FAUToken/V01_S0935_I00001226_P2040.npy\n",
      "2025-08-12 21:48:31,714 - INFO - Skipping optional file movement/alignment_head_rotation/V01_S0935_I00001226_P2040.npy\n",
      "2025-08-12 21:48:32,000 - INFO - Skipping optional file movement/hypernet_features/V01_S0935_I00001226_P2040.npy\n",
      "2025-08-12 21:48:32,033 - INFO - Skipping optional file movement/alignment_translation/V01_S0935_I00001226_P2040.npy\n",
      "2025-08-12 21:48:32,000 - INFO - Skipping optional file movement/hypernet_features/V01_S0935_I00001226_P2040.npy\n",
      "2025-08-12 21:48:32,033 - INFO - Skipping optional file movement/alignment_translation/V01_S0935_I00001226_P2040.npy\n",
      "2025-08-12 21:48:32,248 - INFO - Skipping optional file annotations/1P-IS/V01_S0935_I00001226_P2040.json\n",
      "2025-08-12 21:48:32,294 - INFO - Skipping optional file movement/is_valid/V01_S0935_I00001226_P2040.npy\n",
      "2025-08-12 21:48:32,248 - INFO - Skipping optional file annotations/1P-IS/V01_S0935_I00001226_P2040.json\n",
      "2025-08-12 21:48:32,294 - INFO - Skipping optional file movement/is_valid/V01_S0935_I00001226_P2040.npy\n",
      "2025-08-12 21:48:32,553 - INFO - Skipping optional file movement/emotion_arousal/V01_S0935_I00001226_P2040.npy\n",
      "2025-08-12 21:48:32,555 - INFO - Skipping optional file annotations/3P-IS/V01_S0935_I00001226_P2040.json\n",
      "2025-08-12 21:48:32,553 - INFO - Skipping optional file movement/emotion_arousal/V01_S0935_I00001226_P2040.npy\n",
      "2025-08-12 21:48:32,555 - INFO - Skipping optional file annotations/3P-IS/V01_S0935_I00001226_P2040.json\n",
      "2025-08-12 21:48:32,800 - INFO - Skipping optional file annotations/1P-R/V01_S0935_I00001226_P2040.json\n",
      "2025-08-12 21:48:32,875 - INFO - Skipping optional file movement/emotion_scores/V01_S0935_I00001226_P2040.npy\n",
      "2025-08-12 21:48:32,800 - INFO - Skipping optional file annotations/1P-R/V01_S0935_I00001226_P2040.json\n",
      "2025-08-12 21:48:32,875 - INFO - Skipping optional file movement/emotion_scores/V01_S0935_I00001226_P2040.npy\n",
      "2025-08-12 21:48:33,121 - INFO - Skipping optional file annotations/3P-R/V01_S0935_I00001226_P2040.json\n",
      "2025-08-12 21:48:33,269 - INFO - Skipping optional file annotations/3P-V/V01_S0935_I00001226_P2040.json\n",
      "2025-08-12 21:48:33,121 - INFO - Skipping optional file annotations/3P-R/V01_S0935_I00001226_P2040.json\n",
      "2025-08-12 21:48:33,269 - INFO - Skipping optional file annotations/3P-V/V01_S0935_I00001226_P2040.json\n",
      "2025-08-12 21:48:34,059 - INFO - Saved 9 numpy arrays to ../dataset/session_groups/improvised/dev/0000/0028/V01_S0935_I00001226_P2040.npz\n",
      "2025-08-12 21:48:34,059 - INFO - Successfully processed file V01_S0935_I00001226_P2040 to ../dataset/session_groups/improvised/dev/0000/0028\n",
      "2025-08-12 21:48:34,059 - INFO - Saved 9 numpy arrays to ../dataset/session_groups/improvised/dev/0000/0028/V01_S0935_I00001226_P2040.npz\n",
      "2025-08-12 21:48:34,059 - INFO - Successfully processed file V01_S0935_I00001226_P2040 to ../dataset/session_groups/improvised/dev/0000/0028\n",
      "2025-08-12 21:48:34,066 - INFO - Found 33 files for V00_S0696_I00000543_P0844A\n",
      "2025-08-12 21:48:34,066 - INFO - Found 33 files for V00_S0696_I00000543_P0844A\n"
     ]
    },
    {
     "name": "stdout",
     "output_type": "stream",
     "text": [
      "Downloading 4/10: V00_S0696_I00000543_P0844A\n"
     ]
    },
    {
     "name": "stderr",
     "output_type": "stream",
     "text": [
      "2025-08-12 21:48:40,073 - INFO - Skipping optional file annotations/1P-IS/V00_S0696_I00000543_P0844A.json\n",
      "2025-08-12 21:48:40,550 - INFO - Skipping optional file annotations/3P-IS/V00_S0696_I00000543_P0844A.json\n",
      "2025-08-12 21:48:40,723 - INFO - Skipping optional file annotations/1P-R/V00_S0696_I00000543_P0844A.json\n",
      "2025-08-12 21:48:40,550 - INFO - Skipping optional file annotations/3P-IS/V00_S0696_I00000543_P0844A.json\n",
      "2025-08-12 21:48:40,723 - INFO - Skipping optional file annotations/1P-R/V00_S0696_I00000543_P0844A.json\n",
      "2025-08-12 21:48:41,043 - INFO - Skipping optional file annotations/3P-V/V00_S0696_I00000543_P0844A.json\n",
      "2025-08-12 21:48:41,151 - INFO - Skipping optional file annotations/3P-R/V00_S0696_I00000543_P0844A.json\n",
      "2025-08-12 21:48:41,043 - INFO - Skipping optional file annotations/3P-V/V00_S0696_I00000543_P0844A.json\n",
      "2025-08-12 21:48:41,151 - INFO - Skipping optional file annotations/3P-R/V00_S0696_I00000543_P0844A.json\n",
      "2025-08-12 21:48:41,353 - INFO - Saved 24 numpy arrays to ../dataset/session_groups/improvised/dev/0000/0023/V00_S0696_I00000543_P0844A.npz\n",
      "2025-08-12 21:48:41,353 - INFO - Successfully processed file V00_S0696_I00000543_P0844A to ../dataset/session_groups/improvised/dev/0000/0023\n",
      "2025-08-12 21:48:41,353 - INFO - Saved 24 numpy arrays to ../dataset/session_groups/improvised/dev/0000/0023/V00_S0696_I00000543_P0844A.npz\n",
      "2025-08-12 21:48:41,353 - INFO - Successfully processed file V00_S0696_I00000543_P0844A to ../dataset/session_groups/improvised/dev/0000/0023\n",
      "2025-08-12 21:48:41,361 - INFO - Found 33 files for V00_S0925_I00000488_P0816\n",
      "2025-08-12 21:48:41,361 - INFO - Found 33 files for V00_S0925_I00000488_P0816\n"
     ]
    },
    {
     "name": "stdout",
     "output_type": "stream",
     "text": [
      "Downloading 5/10: V00_S0925_I00000488_P0816\n"
     ]
    },
    {
     "name": "stderr",
     "output_type": "stream",
     "text": [
      "2025-08-12 21:48:46,663 - INFO - Skipping optional file annotations/1P-IS/V00_S0925_I00000488_P0816.json\n",
      "2025-08-12 21:48:46,847 - INFO - Skipping optional file annotations/3P-V/V00_S0925_I00000488_P0816.json\n",
      "2025-08-12 21:48:46,868 - INFO - Skipping optional file annotations/3P-IS/V00_S0925_I00000488_P0816.json\n",
      "2025-08-12 21:48:46,868 - INFO - Skipping optional file annotations/3P-IS/V00_S0925_I00000488_P0816.json\n",
      "2025-08-12 21:48:47,172 - INFO - Skipping optional file annotations/1P-R/V00_S0925_I00000488_P0816.json\n",
      "2025-08-12 21:48:47,350 - INFO - Skipping optional file annotations/3P-R/V00_S0925_I00000488_P0816.json\n",
      "2025-08-12 21:48:47,172 - INFO - Skipping optional file annotations/1P-R/V00_S0925_I00000488_P0816.json\n",
      "2025-08-12 21:48:47,350 - INFO - Skipping optional file annotations/3P-R/V00_S0925_I00000488_P0816.json\n",
      "2025-08-12 21:48:49,538 - INFO - Saved 24 numpy arrays to ../dataset/session_groups/improvised/dev/0000/0042/V00_S0925_I00000488_P0816.npz\n",
      "2025-08-12 21:48:49,539 - INFO - Successfully processed file V00_S0925_I00000488_P0816 to ../dataset/session_groups/improvised/dev/0000/0042\n",
      "2025-08-12 21:48:49,538 - INFO - Saved 24 numpy arrays to ../dataset/session_groups/improvised/dev/0000/0042/V00_S0925_I00000488_P0816.npz\n",
      "2025-08-12 21:48:49,539 - INFO - Successfully processed file V00_S0925_I00000488_P0816 to ../dataset/session_groups/improvised/dev/0000/0042\n",
      "2025-08-12 21:48:49,547 - INFO - Found 33 files for V01_S1881_I00000186_P2767\n",
      "2025-08-12 21:48:49,547 - INFO - Found 33 files for V01_S1881_I00000186_P2767\n"
     ]
    },
    {
     "name": "stdout",
     "output_type": "stream",
     "text": [
      "Downloading 6/10: V01_S1881_I00000186_P2767\n"
     ]
    },
    {
     "name": "stderr",
     "output_type": "stream",
     "text": [
      "2025-08-12 21:48:52,582 - INFO - Skipping optional file movement/emotion_valence/V01_S1881_I00000186_P2767.npy\n",
      "2025-08-12 21:48:53,334 - INFO - Skipping optional file movement/expression/V01_S1881_I00000186_P2767.npy\n",
      "2025-08-12 21:48:53,340 - INFO - Skipping optional file movement/EmotionValenceToken/V01_S1881_I00000186_P2767.npy\n",
      "2025-08-12 21:48:53,374 - INFO - Skipping optional file movement/frame_latent/V01_S1881_I00000186_P2767.npy\n",
      "2025-08-12 21:48:53,334 - INFO - Skipping optional file movement/expression/V01_S1881_I00000186_P2767.npy\n",
      "2025-08-12 21:48:53,340 - INFO - Skipping optional file movement/EmotionValenceToken/V01_S1881_I00000186_P2767.npy\n",
      "2025-08-12 21:48:53,374 - INFO - Skipping optional file movement/frame_latent/V01_S1881_I00000186_P2767.npy\n",
      "2025-08-12 21:48:53,870 - INFO - Skipping optional file movement/FAUToken/V01_S1881_I00000186_P2767.npy\n",
      "2025-08-12 21:48:53,876 - INFO - Skipping optional file movement/gaze_encodings/V01_S1881_I00000186_P2767.npy\n",
      "2025-08-12 21:48:54,006 - INFO - Skipping optional file movement/head_encodings/V01_S1881_I00000186_P2767.npy\n",
      "2025-08-12 21:48:54,015 - INFO - Skipping optional file movement/FAUValue/V01_S1881_I00000186_P2767.npy\n",
      "2025-08-12 21:48:53,870 - INFO - Skipping optional file movement/FAUToken/V01_S1881_I00000186_P2767.npy\n",
      "2025-08-12 21:48:53,876 - INFO - Skipping optional file movement/gaze_encodings/V01_S1881_I00000186_P2767.npy\n",
      "2025-08-12 21:48:54,006 - INFO - Skipping optional file movement/head_encodings/V01_S1881_I00000186_P2767.npy\n",
      "2025-08-12 21:48:54,015 - INFO - Skipping optional file movement/FAUValue/V01_S1881_I00000186_P2767.npy\n",
      "2025-08-12 21:48:54,238 - INFO - Skipping optional file movement/EmotionArousalToken/V01_S1881_I00000186_P2767.npy\n",
      "2025-08-12 21:48:54,415 - INFO - Skipping optional file movement/alignment_head_rotation/V01_S1881_I00000186_P2767.npy\n",
      "2025-08-12 21:48:54,238 - INFO - Skipping optional file movement/EmotionArousalToken/V01_S1881_I00000186_P2767.npy\n",
      "2025-08-12 21:48:54,415 - INFO - Skipping optional file movement/alignment_head_rotation/V01_S1881_I00000186_P2767.npy\n",
      "2025-08-12 21:48:54,469 - INFO - Skipping optional file movement/hypernet_features/V01_S1881_I00000186_P2767.npy\n",
      "2025-08-12 21:48:54,554 - INFO - Skipping optional file movement/alignment_translation/V01_S1881_I00000186_P2767.npy\n",
      "2025-08-12 21:48:54,595 - INFO - Skipping optional file movement/is_valid/V01_S1881_I00000186_P2767.npy\n",
      "2025-08-12 21:48:54,469 - INFO - Skipping optional file movement/hypernet_features/V01_S1881_I00000186_P2767.npy\n",
      "2025-08-12 21:48:54,554 - INFO - Skipping optional file movement/alignment_translation/V01_S1881_I00000186_P2767.npy\n",
      "2025-08-12 21:48:54,595 - INFO - Skipping optional file movement/is_valid/V01_S1881_I00000186_P2767.npy\n",
      "2025-08-12 21:48:54,994 - INFO - Skipping optional file annotations/1P-IS/V01_S1881_I00000186_P2767.json\n",
      "2025-08-12 21:48:55,081 - INFO - Skipping optional file movement/emotion_scores/V01_S1881_I00000186_P2767.npy\n",
      "2025-08-12 21:48:55,091 - INFO - Skipping optional file movement/emotion_arousal/V01_S1881_I00000186_P2767.npy\n",
      "2025-08-12 21:48:55,135 - INFO - Skipping optional file annotations/3P-IS/V01_S1881_I00000186_P2767.json\n",
      "2025-08-12 21:48:54,994 - INFO - Skipping optional file annotations/1P-IS/V01_S1881_I00000186_P2767.json\n",
      "2025-08-12 21:48:55,081 - INFO - Skipping optional file movement/emotion_scores/V01_S1881_I00000186_P2767.npy\n",
      "2025-08-12 21:48:55,091 - INFO - Skipping optional file movement/emotion_arousal/V01_S1881_I00000186_P2767.npy\n",
      "2025-08-12 21:48:55,135 - INFO - Skipping optional file annotations/3P-IS/V01_S1881_I00000186_P2767.json\n",
      "2025-08-12 21:48:55,575 - INFO - Skipping optional file annotations/1P-R/V01_S1881_I00000186_P2767.json\n",
      "2025-08-12 21:48:55,727 - INFO - Skipping optional file annotations/3P-V/V01_S1881_I00000186_P2767.json\n",
      "2025-08-12 21:48:55,732 - INFO - Skipping optional file annotations/3P-R/V01_S1881_I00000186_P2767.json\n",
      "2025-08-12 21:48:55,575 - INFO - Skipping optional file annotations/1P-R/V01_S1881_I00000186_P2767.json\n",
      "2025-08-12 21:48:55,727 - INFO - Skipping optional file annotations/3P-V/V01_S1881_I00000186_P2767.json\n",
      "2025-08-12 21:48:55,732 - INFO - Skipping optional file annotations/3P-R/V01_S1881_I00000186_P2767.json\n",
      "2025-08-12 21:48:56,728 - INFO - Saved 9 numpy arrays to ../dataset/session_groups/improvised/dev/0000/0002/V01_S1881_I00000186_P2767.npz\n",
      "2025-08-12 21:48:56,728 - INFO - Successfully processed file V01_S1881_I00000186_P2767 to ../dataset/session_groups/improvised/dev/0000/0002\n",
      "2025-08-12 21:48:56,728 - INFO - Saved 9 numpy arrays to ../dataset/session_groups/improvised/dev/0000/0002/V01_S1881_I00000186_P2767.npz\n",
      "2025-08-12 21:48:56,728 - INFO - Successfully processed file V01_S1881_I00000186_P2767 to ../dataset/session_groups/improvised/dev/0000/0002\n",
      "2025-08-12 21:48:56,736 - INFO - Found 33 files for V00_S0648_I00000382_P0801\n",
      "2025-08-12 21:48:56,736 - INFO - Found 33 files for V00_S0648_I00000382_P0801\n"
     ]
    },
    {
     "name": "stdout",
     "output_type": "stream",
     "text": [
      "Downloading 7/10: V00_S0648_I00000382_P0801\n"
     ]
    },
    {
     "name": "stderr",
     "output_type": "stream",
     "text": [
      "2025-08-12 21:49:01,955 - INFO - Skipping optional file annotations/1P-IS/V00_S0648_I00000382_P0801.json\n",
      "2025-08-12 21:49:02,130 - INFO - Skipping optional file annotations/3P-IS/V00_S0648_I00000382_P0801.json\n",
      "2025-08-12 21:49:02,340 - INFO - Skipping optional file annotations/3P-V/V00_S0648_I00000382_P0801.json\n",
      "2025-08-12 21:49:02,517 - INFO - Skipping optional file annotations/1P-R/V00_S0648_I00000382_P0801.json\n",
      "2025-08-12 21:49:02,340 - INFO - Skipping optional file annotations/3P-V/V00_S0648_I00000382_P0801.json\n",
      "2025-08-12 21:49:02,517 - INFO - Skipping optional file annotations/1P-R/V00_S0648_I00000382_P0801.json\n",
      "2025-08-12 21:49:02,613 - INFO - Skipping optional file annotations/3P-R/V00_S0648_I00000382_P0801.json\n",
      "2025-08-12 21:49:02,613 - INFO - Skipping optional file annotations/3P-R/V00_S0648_I00000382_P0801.json\n",
      "2025-08-12 21:49:03,050 - INFO - Saved 24 numpy arrays to ../dataset/session_groups/improvised/dev/0000/0052/V00_S0648_I00000382_P0801.npz\n",
      "2025-08-12 21:49:03,051 - INFO - Successfully processed file V00_S0648_I00000382_P0801 to ../dataset/session_groups/improvised/dev/0000/0052\n",
      "2025-08-12 21:49:03,060 - INFO - Found 33 files for V00_S0809_I00000126_P0947\n",
      "2025-08-12 21:49:03,050 - INFO - Saved 24 numpy arrays to ../dataset/session_groups/improvised/dev/0000/0052/V00_S0648_I00000382_P0801.npz\n",
      "2025-08-12 21:49:03,051 - INFO - Successfully processed file V00_S0648_I00000382_P0801 to ../dataset/session_groups/improvised/dev/0000/0052\n",
      "2025-08-12 21:49:03,060 - INFO - Found 33 files for V00_S0809_I00000126_P0947\n"
     ]
    },
    {
     "name": "stdout",
     "output_type": "stream",
     "text": [
      "Downloading 8/10: V00_S0809_I00000126_P0947\n"
     ]
    },
    {
     "name": "stderr",
     "output_type": "stream",
     "text": [
      "2025-08-12 21:49:08,825 - INFO - Skipping optional file annotations/1P-IS/V00_S0809_I00000126_P0947.json\n",
      "2025-08-12 21:49:09,388 - INFO - Skipping optional file annotations/3P-IS/V00_S0809_I00000126_P0947.json\n",
      "2025-08-12 21:49:09,465 - INFO - Skipping optional file annotations/1P-R/V00_S0809_I00000126_P0947.json\n",
      "2025-08-12 21:49:09,388 - INFO - Skipping optional file annotations/3P-IS/V00_S0809_I00000126_P0947.json\n",
      "2025-08-12 21:49:09,465 - INFO - Skipping optional file annotations/1P-R/V00_S0809_I00000126_P0947.json\n",
      "2025-08-12 21:49:09,943 - INFO - Skipping optional file annotations/3P-R/V00_S0809_I00000126_P0947.json\n",
      "2025-08-12 21:49:10,065 - INFO - Skipping optional file annotations/3P-V/V00_S0809_I00000126_P0947.json\n",
      "2025-08-12 21:49:09,943 - INFO - Skipping optional file annotations/3P-R/V00_S0809_I00000126_P0947.json\n",
      "2025-08-12 21:49:10,065 - INFO - Skipping optional file annotations/3P-V/V00_S0809_I00000126_P0947.json\n",
      "2025-08-12 21:49:11,404 - INFO - Saved 24 numpy arrays to ../dataset/session_groups/improvised/dev/0000/0032/V00_S0809_I00000126_P0947.npz\n",
      "2025-08-12 21:49:11,405 - INFO - Successfully processed file V00_S0809_I00000126_P0947 to ../dataset/session_groups/improvised/dev/0000/0032\n",
      "2025-08-12 21:49:11,404 - INFO - Saved 24 numpy arrays to ../dataset/session_groups/improvised/dev/0000/0032/V00_S0809_I00000126_P0947.npz\n",
      "2025-08-12 21:49:11,405 - INFO - Successfully processed file V00_S0809_I00000126_P0947 to ../dataset/session_groups/improvised/dev/0000/0032\n",
      "2025-08-12 21:49:11,413 - INFO - Found 33 files for V00_S2020_I00000679_P1276A\n",
      "2025-08-12 21:49:11,413 - INFO - Found 33 files for V00_S2020_I00000679_P1276A\n"
     ]
    },
    {
     "name": "stdout",
     "output_type": "stream",
     "text": [
      "Downloading 9/10: V00_S2020_I00000679_P1276A\n"
     ]
    },
    {
     "name": "stderr",
     "output_type": "stream",
     "text": [
      "2025-08-12 21:49:18,143 - INFO - Skipping optional file annotations/1P-IS/V00_S2020_I00000679_P1276A.json\n",
      "2025-08-12 21:49:18,407 - INFO - Skipping optional file annotations/3P-IS/V00_S2020_I00000679_P1276A.json\n",
      "2025-08-12 21:49:18,493 - INFO - Skipping optional file annotations/3P-V/V00_S2020_I00000679_P1276A.json\n",
      "2025-08-12 21:49:18,407 - INFO - Skipping optional file annotations/3P-IS/V00_S2020_I00000679_P1276A.json\n",
      "2025-08-12 21:49:18,493 - INFO - Skipping optional file annotations/3P-V/V00_S2020_I00000679_P1276A.json\n",
      "2025-08-12 21:49:18,719 - INFO - Skipping optional file annotations/1P-R/V00_S2020_I00000679_P1276A.json\n",
      "2025-08-12 21:49:18,719 - INFO - Skipping optional file annotations/1P-R/V00_S2020_I00000679_P1276A.json\n",
      "2025-08-12 21:49:18,966 - INFO - Skipping optional file annotations/3P-R/V00_S2020_I00000679_P1276A.json\n",
      "2025-08-12 21:49:18,966 - INFO - Skipping optional file annotations/3P-R/V00_S2020_I00000679_P1276A.json\n",
      "2025-08-12 21:49:19,261 - INFO - Saved 24 numpy arrays to ../dataset/session_groups/improvised/dev/0000/0046/V00_S2020_I00000679_P1276A.npz\n",
      "2025-08-12 21:49:19,262 - INFO - Successfully processed file V00_S2020_I00000679_P1276A to ../dataset/session_groups/improvised/dev/0000/0046\n",
      "2025-08-12 21:49:19,261 - INFO - Saved 24 numpy arrays to ../dataset/session_groups/improvised/dev/0000/0046/V00_S2020_I00000679_P1276A.npz\n",
      "2025-08-12 21:49:19,262 - INFO - Successfully processed file V00_S2020_I00000679_P1276A to ../dataset/session_groups/improvised/dev/0000/0046\n",
      "2025-08-12 21:49:19,271 - INFO - Found 33 files for V00_S1061_I00000160_P0383\n",
      "2025-08-12 21:49:19,271 - INFO - Found 33 files for V00_S1061_I00000160_P0383\n"
     ]
    },
    {
     "name": "stdout",
     "output_type": "stream",
     "text": [
      "Downloading 10/10: V00_S1061_I00000160_P0383\n"
     ]
    },
    {
     "name": "stderr",
     "output_type": "stream",
     "text": [
      "2025-08-12 21:49:26,157 - INFO - Skipping optional file annotations/1P-IS/V00_S1061_I00000160_P0383.json\n",
      "2025-08-12 21:49:26,192 - INFO - Skipping optional file annotations/3P-IS/V00_S1061_I00000160_P0383.json\n",
      "2025-08-12 21:49:26,738 - INFO - Skipping optional file annotations/1P-R/V00_S1061_I00000160_P0383.json\n",
      "2025-08-12 21:49:26,748 - INFO - Skipping optional file annotations/3P-R/V00_S1061_I00000160_P0383.json\n",
      "2025-08-12 21:49:26,738 - INFO - Skipping optional file annotations/1P-R/V00_S1061_I00000160_P0383.json\n",
      "2025-08-12 21:49:26,748 - INFO - Skipping optional file annotations/3P-R/V00_S1061_I00000160_P0383.json\n",
      "2025-08-12 21:49:27,372 - INFO - Skipping optional file annotations/3P-V/V00_S1061_I00000160_P0383.json\n",
      "2025-08-12 21:49:27,372 - INFO - Skipping optional file annotations/3P-V/V00_S1061_I00000160_P0383.json\n",
      "2025-08-12 21:49:30,063 - INFO - Saved 24 numpy arrays to ../dataset/session_groups/improvised/dev/0000/0043/V00_S1061_I00000160_P0383.npz\n",
      "2025-08-12 21:49:30,064 - INFO - Successfully processed file V00_S1061_I00000160_P0383 to ../dataset/session_groups/improvised/dev/0000/0043\n",
      "2025-08-12 21:49:30,063 - INFO - Saved 24 numpy arrays to ../dataset/session_groups/improvised/dev/0000/0043/V00_S1061_I00000160_P0383.npz\n",
      "2025-08-12 21:49:30,064 - INFO - Successfully processed file V00_S1061_I00000160_P0383 to ../dataset/session_groups/improvised/dev/0000/0043\n"
     ]
    },
    {
     "name": "stdout",
     "output_type": "stream",
     "text": [
      "✅ Session Groups download complete!\n"
     ]
    }
   ],
   "source": [
    "# Download Session Groups\n",
    "print('🎯 Starting Session Groups download...')\n",
    "try:\n",
    "    file_ids = session_fs.sample_random_file_ids(num_samples=10)  # Start smaller\n",
    "    for i, file_id in enumerate(file_ids):\n",
    "        print(f'Downloading {i+1}/10: {file_id}')\n",
    "        session_fs.gather_file_id_data_from_s3(file_id)\n",
    "    print('✅ Session Groups download complete!')\n",
    "except Exception as e:\n",
    "    print(f'❌ Download failed: {e}')"
   ]
  },
  {
   "cell_type": "markdown",
   "metadata": {},
   "source": [
    "## Step 3: Basic File Structure Analysis\n",
    "Let's see what we downloaded"
   ]
  },
  {
   "cell_type": "code",
   "execution_count": 25,
   "metadata": {},
   "outputs": [
    {
     "name": "stdout",
     "output_type": "stream",
     "text": [
      "Total Sample Set files found: 139\n",
      "\n",
      "📁 Sample Set File Type Distribution:\n"
     ]
    },
    {
     "data": {
      "text/html": [
       "<div>\n",
       "<style scoped>\n",
       "    .dataframe tbody tr th:only-of-type {\n",
       "        vertical-align: middle;\n",
       "    }\n",
       "\n",
       "    .dataframe tbody tr th {\n",
       "        vertical-align: top;\n",
       "    }\n",
       "\n",
       "    .dataframe thead th {\n",
       "        text-align: right;\n",
       "    }\n",
       "</style>\n",
       "<table border=\"1\" class=\"dataframe\">\n",
       "  <thead>\n",
       "    <tr style=\"text-align: right;\">\n",
       "      <th></th>\n",
       "      <th>File_Type</th>\n",
       "      <th>Count</th>\n",
       "    </tr>\n",
       "  </thead>\n",
       "  <tbody>\n",
       "    <tr>\n",
       "      <th>0</th>\n",
       "      <td>.wav</td>\n",
       "      <td>33</td>\n",
       "    </tr>\n",
       "    <tr>\n",
       "      <th>1</th>\n",
       "      <td>.mp4</td>\n",
       "      <td>33</td>\n",
       "    </tr>\n",
       "    <tr>\n",
       "      <th>2</th>\n",
       "      <td>.json</td>\n",
       "      <td>33</td>\n",
       "    </tr>\n",
       "    <tr>\n",
       "      <th>3</th>\n",
       "      <td>.npz</td>\n",
       "      <td>33</td>\n",
       "    </tr>\n",
       "    <tr>\n",
       "      <th>4</th>\n",
       "      <td></td>\n",
       "      <td>1</td>\n",
       "    </tr>\n",
       "    <tr>\n",
       "      <th>5</th>\n",
       "      <td>.metadata</td>\n",
       "      <td>3</td>\n",
       "    </tr>\n",
       "    <tr>\n",
       "      <th>6</th>\n",
       "      <td>.lock</td>\n",
       "      <td>3</td>\n",
       "    </tr>\n",
       "  </tbody>\n",
       "</table>\n",
       "</div>"
      ],
      "text/plain": [
       "   File_Type  Count\n",
       "0       .wav     33\n",
       "1       .mp4     33\n",
       "2      .json     33\n",
       "3       .npz     33\n",
       "4                 1\n",
       "5  .metadata      3\n",
       "6      .lock      3"
      ]
     },
     "metadata": {},
     "output_type": "display_data"
    },
    {
     "name": "stdout",
     "output_type": "stream",
     "text": [
      "Total Session Groups files found: 40\n",
      "\n",
      "📁 Session Groups File Type Distribution:\n"
     ]
    },
    {
     "data": {
      "text/html": [
       "<div>\n",
       "<style scoped>\n",
       "    .dataframe tbody tr th:only-of-type {\n",
       "        vertical-align: middle;\n",
       "    }\n",
       "\n",
       "    .dataframe tbody tr th {\n",
       "        vertical-align: top;\n",
       "    }\n",
       "\n",
       "    .dataframe thead th {\n",
       "        text-align: right;\n",
       "    }\n",
       "</style>\n",
       "<table border=\"1\" class=\"dataframe\">\n",
       "  <thead>\n",
       "    <tr style=\"text-align: right;\">\n",
       "      <th></th>\n",
       "      <th>File_Type</th>\n",
       "      <th>Count</th>\n",
       "    </tr>\n",
       "  </thead>\n",
       "  <tbody>\n",
       "    <tr>\n",
       "      <th>0</th>\n",
       "      <td>.mp4</td>\n",
       "      <td>10</td>\n",
       "    </tr>\n",
       "    <tr>\n",
       "      <th>1</th>\n",
       "      <td>.json</td>\n",
       "      <td>10</td>\n",
       "    </tr>\n",
       "    <tr>\n",
       "      <th>2</th>\n",
       "      <td>.wav</td>\n",
       "      <td>10</td>\n",
       "    </tr>\n",
       "    <tr>\n",
       "      <th>3</th>\n",
       "      <td>.npz</td>\n",
       "      <td>10</td>\n",
       "    </tr>\n",
       "  </tbody>\n",
       "</table>\n",
       "</div>"
      ],
      "text/plain": [
       "  File_Type  Count\n",
       "0      .mp4     10\n",
       "1     .json     10\n",
       "2      .wav     10\n",
       "3      .npz     10"
      ]
     },
     "metadata": {},
     "output_type": "display_data"
    }
   ],
   "source": [
    "# Analyze Sample Set file structure\n",
    "sample_files = list(sample_config.local_dir.rglob('*'))\n",
    "print(f'Total Sample Set files found: {len([f for f in sample_files if f.is_file()])}')\n",
    "sample_file_types = {}\n",
    "for file_path in sample_files:\n",
    "    if file_path.is_file():\n",
    "        ext = file_path.suffix.lower()\n",
    "        sample_file_types[ext] = sample_file_types.get(ext, 0) + 1\n",
    "df_sample_files = pd.DataFrame([\n",
    "    {'File_Type': ext, 'Count': count}\n",
    "    for ext, count in sample_file_types.items()\n",
    "])\n",
    "print('\\n📁 Sample Set File Type Distribution:')\n",
    "display(df_sample_files)\n",
    "\n",
    "# Analyze Session Groups file structure\n",
    "session_files = list(session_config.local_dir.rglob('*'))\n",
    "print(f'Total Session Groups files found: {len([f for f in session_files if f.is_file()])}')\n",
    "session_file_types = {}\n",
    "for file_path in session_files:\n",
    "    if file_path.is_file():\n",
    "        ext = file_path.suffix.lower()\n",
    "        session_file_types[ext] = session_file_types.get(ext, 0) + 1\n",
    "df_session_files = pd.DataFrame([\n",
    "    {'File_Type': ext, 'Count': count}\n",
    "    for ext, count in session_file_types.items()\n",
    "])\n",
    "print('\\n📁 Session Groups File Type Distribution:')\n",
    "display(df_session_files)"
   ]
  },
  {
   "cell_type": "markdown",
   "id": "1742b77f",
   "metadata": {},
   "source": [
    "### Note: Session Groups Download imcomplete\n",
    "\n",
    "- Some session groups may be missing one or more modalities (e.g., .mp4, .wav, .npz, .json) after download. This can happen due to incomplete downloads or missing files on the server."
   ]
  },
  {
   "cell_type": "markdown",
   "id": "cbcae8ac",
   "metadata": {},
   "source": [
    "## Step 5: Visualize File Type Distribution\n",
    "Visualize the file type distributions for both Sample Set and Session Groups."
   ]
  },
  {
   "cell_type": "code",
   "execution_count": 27,
   "id": "2427cc46",
   "metadata": {},
   "outputs": [
    {
     "data": {
      "image/png": "[encoded data removed]",
      "text/plain": [
       "<Figure size 1400x600 with 2 Axes>"
      ]
     },
     "metadata": {},
     "output_type": "display_data"
    }
   ],
   "source": [
    "# Plot file type distributions for Sample Set and Session Groups\n",
    "fig, axes = plt.subplots(1, 2, figsize=(14, 6))\n",
    "\n",
    "# Sample Set\n",
    "axes[0].bar(df_sample_files['File_Type'], df_sample_files['Count'], color='skyblue')\n",
    "axes[0].set_title('Sample Set File Type Distribution')\n",
    "axes[0].set_xlabel('File Type')\n",
    "axes[0].set_ylabel('Count')\n",
    "axes[0].tick_params(axis='x', rotation=45)\n",
    "\n",
    "# Session Groups\n",
    "axes[1].bar(df_session_files['File_Type'], df_session_files['Count'], color='salmon')\n",
    "axes[1].set_title('Session Groups File Type Distribution')\n",
    "axes[1].set_xlabel('File Type')\n",
    "axes[1].set_ylabel('Count')\n",
    "axes[1].tick_params(axis='x', rotation=45)\n",
    "\n",
    "plt.tight_layout()\n",
    "plt.show()"
   ]
  }
 ],
 "metadata": {
  "kernelspec": {
   "display_name": "seamless-interaction",
   "language": "python",
   "name": "python3"
  },
  "language_info": {
   "codemirror_mode": {
    "name": "ipython",
    "version": 3
   },
   "file_extension": ".py",
   "mimetype": "text/x-python",
   "name": "python",
   "nbconvert_exporter": "python",
   "pygments_lexer": "ipython3",
   "version": "3.10.2"
  }
 },
 "nbformat": 4,
 "nbformat_minor": 5
}
